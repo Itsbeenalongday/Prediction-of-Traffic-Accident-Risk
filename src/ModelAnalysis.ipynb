{
 "cells": [
  {
   "cell_type": "markdown",
   "metadata": {},
   "source": [
    "# Prediction of Traffic Accident Risk\n",
    "Team 7: 어서오십쇼HUMAN  \n",
    "Editor: 유성민, 김도운"
   ]
  },
  {
   "cell_type": "markdown",
   "metadata": {},
   "source": [
    "## 1. 데이터 전처리"
   ]
  },
  {
   "cell_type": "code",
   "execution_count": 1,
   "metadata": {},
   "outputs": [],
   "source": [
    "from sklearn.pipeline import Pipeline\n",
    "from sklearn.metrics import classification_report, confusion_matrix\n",
    "from sklearn.preprocessing import StandardScaler\n",
    "from sklearn.neighbors import KNeighborsClassifier\n",
    "from sklearn import tree\n",
    "from sklearn.ensemble import RandomForestClassifier\n",
    "from sklearn.ensemble import BaggingClassifier\n",
    "from sklearn.svm import SVC\n",
    "from sklearn.neural_network import MLPClassifier\n",
    "from sklearn.model_selection import GridSearchCV\n",
    "from sklearn.datasets import make_classification\n",
    "from sklearn.model_selection import train_test_split\n",
    "import os\n",
    "import numpy as np\n",
    "import pandas as pd\n",
    "import matplotlib.pyplot as plt\n",
    "import seaborn as sns\n",
    "import sklearn\n",
    "import warnings"
   ]
  },
  {
   "cell_type": "code",
   "execution_count": 2,
   "metadata": {},
   "outputs": [
    {
     "name": "stdout",
     "output_type": "stream",
     "text": [
      "        TargetOrigin  Target_0  Target_1  Target_2  Target_3  Location_East  \\\n",
      "168950             3         0         0         0         1              1   \n",
      "217224             0         1         0         0         0              1   \n",
      "243619             1         0         1         0         0              0   \n",
      "217129             0         1         0         0         0              0   \n",
      "104184             2         0         0         1         0              1   \n",
      "...              ...       ...       ...       ...       ...            ...   \n",
      "319717             3         0         0         0         1              1   \n",
      "211960             0         1         0         0         0              0   \n",
      "75879              2         0         0         1         0              0   \n",
      "163007             3         0         0         0         1              0   \n",
      "218972             0         1         0         0         0              0   \n",
      "\n",
      "        Location_North  Location_South  Location_West  RoadState_건조  ...  \\\n",
      "168950               0               0              0             1  ...   \n",
      "217224               0               0              0             1  ...   \n",
      "243619               0               0              1             1  ...   \n",
      "217129               0               1              0             1  ...   \n",
      "104184               0               0              0             0  ...   \n",
      "...                ...             ...            ...           ...  ...   \n",
      "319717               0               0              0             1  ...   \n",
      "211960               1               0              0             1  ...   \n",
      "75879                0               1              0             1  ...   \n",
      "163007               0               1              0             1  ...   \n",
      "218972               0               0              1             1  ...   \n",
      "\n",
      "        Time_afternoon  Time_night  AgeBand_10  AgeBand_20  AgeBand_30  \\\n",
      "168950               0           1           0           0           1   \n",
      "217224               0           1           0           0           0   \n",
      "243619               0           1           0           0           0   \n",
      "217129               0           0           0           0           0   \n",
      "104184               0           1           0           0           0   \n",
      "...                ...         ...         ...         ...         ...   \n",
      "319717               1           0           0           0           0   \n",
      "211960               1           0           0           0           1   \n",
      "75879                0           0           0           0           0   \n",
      "163007               0           1           0           0           0   \n",
      "218972               0           0           0           0           0   \n",
      "\n",
      "        AgeBand_40  AgeBand_50  AgeBand_60  AgeBand_70  AgeBand_80  \n",
      "168950           0           0           0           0           0  \n",
      "217224           0           0           1           0           0  \n",
      "243619           0           1           0           0           0  \n",
      "217129           0           1           0           0           0  \n",
      "104184           0           1           0           0           0  \n",
      "...            ...         ...         ...         ...         ...  \n",
      "319717           1           0           0           0           0  \n",
      "211960           0           0           0           0           0  \n",
      "75879            1           0           0           0           0  \n",
      "163007           0           1           0           0           0  \n",
      "218972           0           0           0           1           0  \n",
      "\n",
      "[12000 rows x 60 columns]\n"
     ]
    }
   ],
   "source": [
    "preprocessing = pd.read_csv('../input/preprocessing.csv')\n",
    "\n",
    "preprocessing = preprocessing.iloc[np.random.permutation(len(preprocessing))]\n",
    "\n",
    "y = preprocessing.loc[:, 'TargetOrigin' ]\n",
    "x = preprocessing.loc[:,'Location_East':]\n",
    "\n",
    "from sklearn.model_selection import train_test_split\n",
    "\n",
    "x = x[:1000]\n",
    "y = y[:1000]\n",
    "\n",
    "x_train, x_test, y_train, y_test = train_test_split(x, y, test_size=0.2)\n",
    "\n",
    "print(preprocessing)"
   ]
  },
  {
   "cell_type": "code",
   "execution_count": 3,
   "metadata": {},
   "outputs": [
    {
     "name": "stdout",
     "output_type": "stream",
     "text": [
      "41 52 53 54\n"
     ]
    }
   ],
   "source": [
    "count0, count1, count2, count3 = 0, 0, 0, 0\n",
    "for i in y_test:\n",
    "    if i == 0: count0 += 1\n",
    "    elif i == 1: count1 += 1\n",
    "    elif i == 2: count2 += 1\n",
    "    else: count3 += 1\n",
    "print(count0, count1, count2, count3)"
   ]
  },
  {
   "cell_type": "markdown",
   "metadata": {},
   "source": [
    "## 2. 모델 학습"
   ]
  },
  {
   "cell_type": "markdown",
   "metadata": {},
   "source": [
    "# Prepare Model training and analysis\n",
    "\n",
    "> editor: seongminyoo   \n",
    "> Date of modification: 2020-05-25 04:49pm\n",
    "\n",
    "`solving problem`\n",
    "+ Classification Problem\n",
    "\n",
    "`using model`\n",
    "+ KNN\n",
    "+ Decision Tree\n",
    "+ Bagging\n",
    "+ Random Forest\n",
    "+ SVM\n",
    "+ Neural Network classifier\n",
    "\n",
    "`algorithm for each step`\n",
    "1. Make pipeline\n",
    "    - standard data, model\n",
    "2. GridSearchCV by 10 fold or 5 fold\n",
    "    - make parameter set\n",
    "3. Test\n",
    "    - best_esitimater is model that construct best hyper parameter set\n",
    "4. Analysis result\n",
    "    - use confusion matrix"
   ]
  },
  {
   "cell_type": "markdown",
   "metadata": {},
   "source": [
    "# Make functions"
   ]
  },
  {
   "cell_type": "code",
   "execution_count": 4,
   "metadata": {},
   "outputs": [],
   "source": [
    "# 최고 모델 만드는 함수\n",
    "def make_model(model, param_grid, cv):\n",
    "    try: # random_state 가능 모델\n",
    "        gs = GridSearchCV(estimator=model(random_state = 1), param_grid=param_grid, scoring='accuracy', cv=cv)\n",
    "    except Exception: # random_state 불가능 모델\n",
    "        print('error detection!')\n",
    "        gs = GridSearchCV(estimator=model(), param_grid=param_grid, scoring='accuracy', cv=cv)\n",
    "    finally:\n",
    "        gs.fit(x_train,y_train)\n",
    "        best_params = gs.best_params_\n",
    "        print(best_params)\n",
    "        return gs\n",
    "\n",
    "# test function\n",
    "def make_test(model):\n",
    "        best_model=model.best_estimator_\n",
    "        y_pred = best_model.predict(x_test)\n",
    "        print(classification_report(y_test,y_pred,target_names=['class 0','class 1','class 2','class 3']))"
   ]
  },
  {
   "cell_type": "code",
   "execution_count": 5,
   "metadata": {},
   "outputs": [],
   "source": [
    "from concurrent.futures import as_completed, ProcessPoolExecutor\n",
    "import time\n",
    "import numpy as np\n",
    "import winprocess\n",
    "\n",
    "def parallel_processing(model, param_grid, cv):\n",
    "    executor = ProcessPoolExecutor(max_workers=50)\n",
    "    fs = winprocess.submit(executor, make_model,model, param_grid, cv)\n",
    "    return fs.result()"
   ]
  },
  {
   "cell_type": "markdown",
   "metadata": {},
   "source": [
    "# KNN"
   ]
  },
  {
   "cell_type": "code",
   "execution_count": 6,
   "metadata": {},
   "outputs": [],
   "source": [
    "# hyper parameter sets\n",
    "param_range = [i for i in range(1,11)]\n",
    "param_grid = [\n",
    "    {'n_neighbors': param_range, 'metric': ['euclidean']},\n",
    "    {'n_neighbors': param_range, 'metric': ['manhattan']}]"
   ]
  },
  {
   "cell_type": "code",
   "execution_count": 7,
   "metadata": {},
   "outputs": [],
   "source": [
    "best_model = parallel_processing(KNeighborsClassifier,param_grid, 5)"
   ]
  },
  {
   "cell_type": "code",
   "execution_count": 8,
   "metadata": {},
   "outputs": [
    {
     "name": "stdout",
     "output_type": "stream",
     "text": [
      "              precision    recall  f1-score   support\n",
      "\n",
      "     class 0       0.21      0.46      0.29        41\n",
      "     class 1       0.39      0.33      0.35        52\n",
      "     class 2       0.43      0.30      0.36        53\n",
      "     class 3       0.30      0.17      0.21        54\n",
      "\n",
      "    accuracy                           0.30       200\n",
      "   macro avg       0.33      0.31      0.30       200\n",
      "weighted avg       0.34      0.30      0.30       200\n",
      "\n"
     ]
    }
   ],
   "source": [
    "make_test(best_model)"
   ]
  },
  {
   "cell_type": "markdown",
   "metadata": {},
   "source": [
    "# Decision Tree"
   ]
  },
  {
   "cell_type": "code",
   "execution_count": 9,
   "metadata": {},
   "outputs": [],
   "source": [
    "# hyper parameter sets\n",
    "param_range = [i for i in range(3,7)]\n",
    "# 1 아래의 parmeter들과 위의 k가 한번 씩 모두 들어가서 brute-force를 진행함으로써 제일 좋은 파라미터를  결과로 도출해준다.\n",
    "param_grid = [\n",
    "    {'max_depth': param_range, 'criterion': ['entropy']},\n",
    "    {'max_depth': param_range, 'criterion': ['gini']}]"
   ]
  },
  {
   "cell_type": "code",
   "execution_count": 10,
   "metadata": {},
   "outputs": [],
   "source": [
    "# Decision Tree train and test\n",
    "best_model = parallel_processing(tree.DecisionTreeClassifier,param_grid,5)"
   ]
  },
  {
   "cell_type": "code",
   "execution_count": 11,
   "metadata": {},
   "outputs": [
    {
     "name": "stdout",
     "output_type": "stream",
     "text": [
      "              precision    recall  f1-score   support\n",
      "\n",
      "     class 0       0.21      0.44      0.28        41\n",
      "     class 1       0.25      0.31      0.28        52\n",
      "     class 2       0.31      0.28      0.29        53\n",
      "     class 3       0.00      0.00      0.00        54\n",
      "\n",
      "    accuracy                           0.24       200\n",
      "   macro avg       0.19      0.26      0.21       200\n",
      "weighted avg       0.19      0.24      0.21       200\n",
      "\n"
     ]
    }
   ],
   "source": [
    "make_test(best_model)"
   ]
  },
  {
   "cell_type": "markdown",
   "metadata": {},
   "source": [
    "# Random Forest"
   ]
  },
  {
   "cell_type": "code",
   "execution_count": 16,
   "metadata": {},
   "outputs": [],
   "source": [
    "# hyper parameter set for Random Forest\n",
    "estimators = [100,250]\n",
    "depth_range = [i for i in range(3,7)]\n",
    "param_grid = [\n",
    "    {'max_depth': depth_range, 'criterion': ['entropy'], 'n_estimators':estimators},\n",
    "    {'max_depth': depth_range, 'criterion': ['gini'], 'n_estimators':estimators}]"
   ]
  },
  {
   "cell_type": "code",
   "execution_count": 17,
   "metadata": {},
   "outputs": [],
   "source": [
    "# Random Forest train and test\n",
    "best_model = parallel_processing(RandomForestClassifier,param_grid,5)"
   ]
  },
  {
   "cell_type": "code",
   "execution_count": 18,
   "metadata": {},
   "outputs": [
    {
     "name": "stdout",
     "output_type": "stream",
     "text": [
      "              precision    recall  f1-score   support\n",
      "\n",
      "     class 0       0.24      0.46      0.31        41\n",
      "     class 1       0.39      0.25      0.31        52\n",
      "     class 2       0.40      0.60      0.48        53\n",
      "     class 3       0.83      0.09      0.17        54\n",
      "\n",
      "    accuracy                           0.34       200\n",
      "   macro avg       0.46      0.35      0.32       200\n",
      "weighted avg       0.48      0.34      0.32       200\n",
      "\n"
     ]
    }
   ],
   "source": [
    "make_test(best_model)"
   ]
  },
  {
   "cell_type": "markdown",
   "metadata": {},
   "source": [
    "# Bagging"
   ]
  },
  {
   "cell_type": "code",
   "execution_count": 19,
   "metadata": {},
   "outputs": [],
   "source": [
    "# hyper parameter set for Bagging\n",
    "estimators = [100, 250]\n",
    "depth_range = [i for i in range(3,7)]\n",
    "param_grid = [\n",
    "    {'base_estimator__max_depth': depth_range, 'base_estimator__criterion': ['entropy'], 'n_estimators':estimators},\n",
    "    {'base_estimator__max_depth': depth_range, 'base_estimator__criterion': ['gini'], 'n_estimators':estimators}\n",
    " ]"
   ]
  },
  {
   "cell_type": "code",
   "execution_count": 20,
   "metadata": {},
   "outputs": [
    {
     "name": "stdout",
     "output_type": "stream",
     "text": [
      "{'base_estimator__criterion': 'entropy', 'base_estimator__max_depth': 5, 'n_estimators': 250}\n",
      "              precision    recall  f1-score   support\n",
      "\n",
      "     class 0       0.17      0.34      0.23        41\n",
      "     class 1       0.45      0.27      0.34        52\n",
      "     class 2       0.40      0.49      0.44        53\n",
      "     class 3       0.12      0.06      0.08        54\n",
      "\n",
      "    accuracy                           0.28       200\n",
      "   macro avg       0.29      0.29      0.27       200\n",
      "weighted avg       0.29      0.28      0.27       200\n",
      "\n"
     ]
    }
   ],
   "source": [
    "#Bagging train and test\n",
    "\n",
    "gs = GridSearchCV(estimator=BaggingClassifier(tree.DecisionTreeClassifier(random_state = 1),random_state=1)\n",
    "                  , param_grid=param_grid, scoring='accuracy', cv=5,)\n",
    "gs.fit(x_train,y_train)\n",
    "print(gs.best_params_)\n",
    "best_bg=gs.best_estimator_\n",
    "y_pred = best_bg.predict(x_test) \n",
    "print(classification_report(y_test,y_pred,target_names=['class 0','class 1','class 2','class 3']))"
   ]
  },
  {
   "cell_type": "markdown",
   "metadata": {},
   "source": [
    "# SVM"
   ]
  },
  {
   "cell_type": "code",
   "execution_count": 21,
   "metadata": {},
   "outputs": [],
   "source": [
    "# hyper parameter set for SVM\n",
    "param_range = [10e-6, 10e-4, 0.01, 1 ,10.0]\n",
    "param_grid = [\n",
    "    {'C': param_range, 'kernel': ['linear']},\n",
    "    {'C': param_range, 'kernel': ['rbf']},\n",
    "    {'C': param_range, 'kernel': ['poly']},\n",
    "    {'C': param_range, 'kernel': ['sigmid']}]"
   ]
  },
  {
   "cell_type": "code",
   "execution_count": 22,
   "metadata": {},
   "outputs": [],
   "source": [
    "# SVM Forest train and test\n",
    "best_model = parallel_processing(SVC,param_grid,5)"
   ]
  },
  {
   "cell_type": "code",
   "execution_count": 23,
   "metadata": {},
   "outputs": [
    {
     "name": "stdout",
     "output_type": "stream",
     "text": [
      "              precision    recall  f1-score   support\n",
      "\n",
      "     class 0       0.24      0.27      0.25        41\n",
      "     class 1       0.33      0.25      0.28        52\n",
      "     class 2       0.47      0.53      0.50        53\n",
      "     class 3       0.35      0.35      0.35        54\n",
      "\n",
      "    accuracy                           0.36       200\n",
      "   macro avg       0.35      0.35      0.35       200\n",
      "weighted avg       0.35      0.35      0.35       200\n",
      "\n"
     ]
    }
   ],
   "source": [
    "make_test(best_model)"
   ]
  },
  {
   "cell_type": "markdown",
   "metadata": {},
   "source": [
    "# Neural Network Classifier"
   ]
  },
  {
   "cell_type": "code",
   "execution_count": 24,
   "metadata": {},
   "outputs": [],
   "source": [
    "# hyper parameter set for Neural Network\n",
    "param_learning_rate=['constant', 'adaptive']\n",
    "param_activation = ['relu', 'identity', 'tanh', 'logistic']\n",
    "param_solver=['sgd', 'adam']\n",
    "param_hidden_layer_sizes=[(100,)]\n",
    "param_grid = [\n",
    "    {'learning_rate': param_learning_rate, 'hidden_layer_sizes':param_hidden_layer_sizes, \n",
    "     'activation':param_activation, 'solver':param_solver}\n",
    "]"
   ]
  },
  {
   "cell_type": "code",
   "execution_count": null,
   "metadata": {},
   "outputs": [],
   "source": [
    "# Neural Network train and test\n",
    "best_model = parallel_processing(MLPClassifier,param_grid, 5)"
   ]
  },
  {
   "cell_type": "code",
   "execution_count": null,
   "metadata": {},
   "outputs": [],
   "source": [
    "make_test(best_model)"
   ]
  },
  {
   "cell_type": "code",
   "execution_count": null,
   "metadata": {},
   "outputs": [],
   "source": []
  },
  {
   "cell_type": "code",
   "execution_count": null,
   "metadata": {},
   "outputs": [],
   "source": []
  }
 ],
 "metadata": {
  "kernelspec": {
   "display_name": "Python 3",
   "language": "python",
   "name": "python3"
  },
  "language_info": {
   "codemirror_mode": {
    "name": "ipython",
    "version": 3
   },
   "file_extension": ".py",
   "mimetype": "text/x-python",
   "name": "python",
   "nbconvert_exporter": "python",
   "pygments_lexer": "ipython3",
   "version": "3.8.2"
  }
 },
 "nbformat": 4,
 "nbformat_minor": 4
}
