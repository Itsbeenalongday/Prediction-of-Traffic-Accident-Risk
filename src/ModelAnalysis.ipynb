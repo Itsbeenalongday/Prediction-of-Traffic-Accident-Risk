{
 "cells": [
  {
   "cell_type": "markdown",
   "metadata": {},
   "source": [
    "# Prediction of Traffic Accident Risk\n",
    "Team 7: 어서오십쇼HUMAN  \n",
    "Editor: 유성민, 김도운\n",
    "## 2. 모델 학습"
   ]
  },
  {
   "cell_type": "code",
   "execution_count": 1,
   "metadata": {},
   "outputs": [],
   "source": [
    "# 사전 준비\n",
    "import os\n",
    "import numpy as np\n",
    "import pandas as pd\n",
    "import matplotlib.pyplot as plt\n",
    "import seaborn as sns\n",
    "import sklearn\n",
    "import warnings\n",
    "\n",
    "plt.style.use('seaborn')\n",
    "sns.set(font_scale=2.5)\n",
    "\n",
    "warnings.filterwarnings('ignore')\n",
    "\n",
    "%matplotlib inline"
   ]
  },
  {
   "cell_type": "code",
   "execution_count": 6,
   "metadata": {},
   "outputs": [
    {
     "name": "stdout",
     "output_type": "stream",
     "text": [
      "sample.shape: (362297, 10)\n"
     ]
    }
   ],
   "source": [
    "sample = pd.read_csv('../input/sample_accident.csv')\n",
    "\n",
    "print(\"sample.shape:\", sample.shape)"
   ]
  },
  {
   "cell_type": "code",
   "execution_count": 7,
   "metadata": {},
   "outputs": [
    {
     "data": {
      "text/html": [
       "<div>\n",
       "<style scoped>\n",
       "    .dataframe tbody tr th:only-of-type {\n",
       "        vertical-align: middle;\n",
       "    }\n",
       "\n",
       "    .dataframe tbody tr th {\n",
       "        vertical-align: top;\n",
       "    }\n",
       "\n",
       "    .dataframe thead th {\n",
       "        text-align: right;\n",
       "    }\n",
       "</style>\n",
       "<table border=\"1\" class=\"dataframe\">\n",
       "  <thead>\n",
       "    <tr style=\"text-align: right;\">\n",
       "      <th></th>\n",
       "      <th>발생일</th>\n",
       "      <th>발생시간</th>\n",
       "      <th>요일</th>\n",
       "      <th>발생지_시군구</th>\n",
       "      <th>사고내용</th>\n",
       "      <th>노면상태</th>\n",
       "      <th>기상상태</th>\n",
       "      <th>도로형태_대분류</th>\n",
       "      <th>가해자차종</th>\n",
       "      <th>가해자연령</th>\n",
       "    </tr>\n",
       "  </thead>\n",
       "  <tbody>\n",
       "    <tr>\n",
       "      <th>0</th>\n",
       "      <td>20100101</td>\n",
       "      <td>00시</td>\n",
       "      <td>금</td>\n",
       "      <td>마포구</td>\n",
       "      <td>경상</td>\n",
       "      <td>젖음/습기</td>\n",
       "      <td>맑음</td>\n",
       "      <td>단일로</td>\n",
       "      <td>승용차</td>\n",
       "      <td>54세</td>\n",
       "    </tr>\n",
       "    <tr>\n",
       "      <th>1</th>\n",
       "      <td>20100101</td>\n",
       "      <td>00시</td>\n",
       "      <td>금</td>\n",
       "      <td>동작구</td>\n",
       "      <td>중상</td>\n",
       "      <td>서리/결빙</td>\n",
       "      <td>맑음</td>\n",
       "      <td>단일로</td>\n",
       "      <td>승합차</td>\n",
       "      <td>57세</td>\n",
       "    </tr>\n",
       "    <tr>\n",
       "      <th>2</th>\n",
       "      <td>20100101</td>\n",
       "      <td>00시</td>\n",
       "      <td>금</td>\n",
       "      <td>관악구</td>\n",
       "      <td>경상</td>\n",
       "      <td>서리/결빙</td>\n",
       "      <td>흐림</td>\n",
       "      <td>단일로</td>\n",
       "      <td>승용차</td>\n",
       "      <td>51세</td>\n",
       "    </tr>\n",
       "    <tr>\n",
       "      <th>3</th>\n",
       "      <td>20100101</td>\n",
       "      <td>00시</td>\n",
       "      <td>금</td>\n",
       "      <td>강서구</td>\n",
       "      <td>경상</td>\n",
       "      <td>건조</td>\n",
       "      <td>맑음</td>\n",
       "      <td>교차로</td>\n",
       "      <td>승용차</td>\n",
       "      <td>56세</td>\n",
       "    </tr>\n",
       "    <tr>\n",
       "      <th>4</th>\n",
       "      <td>20100101</td>\n",
       "      <td>00시</td>\n",
       "      <td>금</td>\n",
       "      <td>구로구</td>\n",
       "      <td>경상</td>\n",
       "      <td>건조</td>\n",
       "      <td>맑음</td>\n",
       "      <td>교차로</td>\n",
       "      <td>승용차</td>\n",
       "      <td>33세</td>\n",
       "    </tr>\n",
       "    <tr>\n",
       "      <th>...</th>\n",
       "      <td>...</td>\n",
       "      <td>...</td>\n",
       "      <td>...</td>\n",
       "      <td>...</td>\n",
       "      <td>...</td>\n",
       "      <td>...</td>\n",
       "      <td>...</td>\n",
       "      <td>...</td>\n",
       "      <td>...</td>\n",
       "      <td>...</td>\n",
       "    </tr>\n",
       "    <tr>\n",
       "      <th>362292</th>\n",
       "      <td>20181231</td>\n",
       "      <td>23시</td>\n",
       "      <td>월</td>\n",
       "      <td>동작구</td>\n",
       "      <td>경상</td>\n",
       "      <td>건조</td>\n",
       "      <td>맑음</td>\n",
       "      <td>단일로</td>\n",
       "      <td>승용차</td>\n",
       "      <td>34세</td>\n",
       "    </tr>\n",
       "    <tr>\n",
       "      <th>362293</th>\n",
       "      <td>20181231</td>\n",
       "      <td>23시</td>\n",
       "      <td>월</td>\n",
       "      <td>강서구</td>\n",
       "      <td>부상신고</td>\n",
       "      <td>건조</td>\n",
       "      <td>맑음</td>\n",
       "      <td>교차로</td>\n",
       "      <td>승용차</td>\n",
       "      <td>56세</td>\n",
       "    </tr>\n",
       "    <tr>\n",
       "      <th>362294</th>\n",
       "      <td>20181231</td>\n",
       "      <td>23시</td>\n",
       "      <td>월</td>\n",
       "      <td>강동구</td>\n",
       "      <td>경상</td>\n",
       "      <td>건조</td>\n",
       "      <td>맑음</td>\n",
       "      <td>교차로</td>\n",
       "      <td>승용차</td>\n",
       "      <td>57세</td>\n",
       "    </tr>\n",
       "    <tr>\n",
       "      <th>362295</th>\n",
       "      <td>20181231</td>\n",
       "      <td>23시</td>\n",
       "      <td>월</td>\n",
       "      <td>강동구</td>\n",
       "      <td>경상</td>\n",
       "      <td>건조</td>\n",
       "      <td>맑음</td>\n",
       "      <td>단일로</td>\n",
       "      <td>승용차</td>\n",
       "      <td>59세</td>\n",
       "    </tr>\n",
       "    <tr>\n",
       "      <th>362296</th>\n",
       "      <td>20181231</td>\n",
       "      <td>23시</td>\n",
       "      <td>월</td>\n",
       "      <td>송파구</td>\n",
       "      <td>경상</td>\n",
       "      <td>건조</td>\n",
       "      <td>맑음</td>\n",
       "      <td>교차로</td>\n",
       "      <td>승용차</td>\n",
       "      <td>69세</td>\n",
       "    </tr>\n",
       "  </tbody>\n",
       "</table>\n",
       "<p>362297 rows × 10 columns</p>\n",
       "</div>"
      ],
      "text/plain": [
       "             발생일 발생시간 요일 발생지_시군구  사고내용   노면상태 기상상태 도로형태_대분류 가해자차종 가해자연령\n",
       "0       20100101  00시  금     마포구    경상  젖음/습기   맑음      단일로   승용차   54세\n",
       "1       20100101  00시  금     동작구    중상  서리/결빙   맑음      단일로   승합차   57세\n",
       "2       20100101  00시  금     관악구    경상  서리/결빙   흐림      단일로   승용차   51세\n",
       "3       20100101  00시  금     강서구    경상     건조   맑음      교차로   승용차   56세\n",
       "4       20100101  00시  금     구로구    경상     건조   맑음      교차로   승용차   33세\n",
       "...          ...  ... ..     ...   ...    ...  ...      ...   ...   ...\n",
       "362292  20181231  23시  월     동작구    경상     건조   맑음      단일로   승용차   34세\n",
       "362293  20181231  23시  월     강서구  부상신고     건조   맑음      교차로   승용차   56세\n",
       "362294  20181231  23시  월     강동구    경상     건조   맑음      교차로   승용차   57세\n",
       "362295  20181231  23시  월     강동구    경상     건조   맑음      단일로   승용차   59세\n",
       "362296  20181231  23시  월     송파구    경상     건조   맑음      교차로   승용차   69세\n",
       "\n",
       "[362297 rows x 10 columns]"
      ]
     },
     "execution_count": 7,
     "metadata": {},
     "output_type": "execute_result"
    }
   ],
   "source": [
    "sample"
   ]
  },
  {
   "cell_type": "markdown",
   "metadata": {},
   "source": [
    "# Model training and analysis Overview\n",
    "\n",
    "> editor: seongminyoo   \n",
    "> Date of modification: 2020-05-25 04:49pm\n",
    "\n",
    "`solving problem`\n",
    "+ Classification Problem\n",
    "\n",
    "`using model`\n",
    "+ KNN\n",
    "+ Decision Tree\n",
    "+ Bagging\n",
    "+ Random Forest\n",
    "+ SVM\n",
    "+ Neural Network classifier\n",
    "\n",
    "`algorithm for each step`\n",
    "1. Make pipeline\n",
    "    - standard data, model\n",
    "2. GridSearchCV by 10 fold or 5 fold\n",
    "    - make parameter set\n",
    "3. Test\n",
    "    - best_esitimater is model that construct best hyper parameter set\n",
    "4. Analysis result\n",
    "    - use confusion matrix"
   ]
  },
  {
   "cell_type": "markdown",
   "metadata": {},
   "source": [
    "# Data processing"
   ]
  },
  {
   "cell_type": "code",
   "execution_count": 4,
   "metadata": {},
   "outputs": [
    {
     "ename": "AttributeError",
     "evalue": "'DataFrame' object has no attribute 'data'",
     "output_type": "error",
     "traceback": [
      "\u001b[1;31m---------------------------------------------------------------------------\u001b[0m",
      "\u001b[1;31mAttributeError\u001b[0m                            Traceback (most recent call last)",
      "\u001b[1;32m<ipython-input-4-1a524a08d8c6>\u001b[0m in \u001b[0;36m<module>\u001b[1;34m\u001b[0m\n\u001b[0;32m      6\u001b[0m '''\n\u001b[0;32m      7\u001b[0m \u001b[1;32mfrom\u001b[0m \u001b[0msklearn\u001b[0m\u001b[1;33m.\u001b[0m\u001b[0mmodel_selection\u001b[0m \u001b[1;32mimport\u001b[0m \u001b[0mtrain_test_split\u001b[0m\u001b[1;33m\u001b[0m\u001b[1;33m\u001b[0m\u001b[0m\n\u001b[1;32m----> 8\u001b[1;33m \u001b[0mx_train\u001b[0m\u001b[1;33m,\u001b[0m \u001b[0my_train\u001b[0m\u001b[1;33m,\u001b[0m \u001b[0mx_test\u001b[0m\u001b[1;33m,\u001b[0m \u001b[0my_test\u001b[0m \u001b[1;33m=\u001b[0m \u001b[0mtrain_test_split\u001b[0m\u001b[1;33m(\u001b[0m\u001b[0msample\u001b[0m\u001b[1;33m.\u001b[0m\u001b[0mdata\u001b[0m\u001b[1;33m,\u001b[0m \u001b[0msample\u001b[0m\u001b[1;33m.\u001b[0m\u001b[0mtarget\u001b[0m\u001b[1;33m,\u001b[0m \u001b[0mrandom_state\u001b[0m \u001b[1;33m=\u001b[0m \u001b[1;36m1\u001b[0m\u001b[1;33m)\u001b[0m\u001b[1;33m\u001b[0m\u001b[1;33m\u001b[0m\u001b[0m\n\u001b[0m",
      "\u001b[1;32mc:\\users\\user\\appdata\\local\\programs\\python\\python38\\lib\\site-packages\\pandas\\core\\generic.py\u001b[0m in \u001b[0;36m__getattr__\u001b[1;34m(self, name)\u001b[0m\n\u001b[0;32m   5272\u001b[0m             \u001b[1;32mif\u001b[0m \u001b[0mself\u001b[0m\u001b[1;33m.\u001b[0m\u001b[0m_info_axis\u001b[0m\u001b[1;33m.\u001b[0m\u001b[0m_can_hold_identifiers_and_holds_name\u001b[0m\u001b[1;33m(\u001b[0m\u001b[0mname\u001b[0m\u001b[1;33m)\u001b[0m\u001b[1;33m:\u001b[0m\u001b[1;33m\u001b[0m\u001b[1;33m\u001b[0m\u001b[0m\n\u001b[0;32m   5273\u001b[0m                 \u001b[1;32mreturn\u001b[0m \u001b[0mself\u001b[0m\u001b[1;33m[\u001b[0m\u001b[0mname\u001b[0m\u001b[1;33m]\u001b[0m\u001b[1;33m\u001b[0m\u001b[1;33m\u001b[0m\u001b[0m\n\u001b[1;32m-> 5274\u001b[1;33m             \u001b[1;32mreturn\u001b[0m \u001b[0mobject\u001b[0m\u001b[1;33m.\u001b[0m\u001b[0m__getattribute__\u001b[0m\u001b[1;33m(\u001b[0m\u001b[0mself\u001b[0m\u001b[1;33m,\u001b[0m \u001b[0mname\u001b[0m\u001b[1;33m)\u001b[0m\u001b[1;33m\u001b[0m\u001b[1;33m\u001b[0m\u001b[0m\n\u001b[0m\u001b[0;32m   5275\u001b[0m \u001b[1;33m\u001b[0m\u001b[0m\n\u001b[0;32m   5276\u001b[0m     \u001b[1;32mdef\u001b[0m \u001b[0m__setattr__\u001b[0m\u001b[1;33m(\u001b[0m\u001b[0mself\u001b[0m\u001b[1;33m,\u001b[0m \u001b[0mname\u001b[0m\u001b[1;33m:\u001b[0m \u001b[0mstr\u001b[0m\u001b[1;33m,\u001b[0m \u001b[0mvalue\u001b[0m\u001b[1;33m)\u001b[0m \u001b[1;33m->\u001b[0m \u001b[1;32mNone\u001b[0m\u001b[1;33m:\u001b[0m\u001b[1;33m\u001b[0m\u001b[1;33m\u001b[0m\u001b[0m\n",
      "\u001b[1;31mAttributeError\u001b[0m: 'DataFrame' object has no attribute 'data'"
     ]
    }
   ],
   "source": [
    "# Data split\n",
    "'''\n",
    "target과 data 나누는\n",
    "data slicing 필요\n",
    "문자를 one hot encoding으로 받아야함\n",
    "'''\n",
    "from sklearn.model_selection import train_test_split\n",
    "x_train, y_train, x_test, y_test = train_test_split(sample.data, sample.target, test_size = 0.1, random_state = 1)"
   ]
  },
  {
   "cell_type": "markdown",
   "metadata": {},
   "source": [
    "# import using package"
   ]
  },
  {
   "cell_type": "code",
   "execution_count": null,
   "metadata": {},
   "outputs": [],
   "source": [
    "# package\n",
    "from sklearn.pipeline import Pipeline\n",
    "from sklearn.metrics import classification_report, confusion_matrix\n",
    "from sklearn.preprocessing import StandardScale\n",
    "from sklearn.neighbors import KNeighborsClassifier\n",
    "from sklearn import tree\n",
    "from sklearn.ensemble import RandomForestClassifier\n",
    "from sklearn.ensemble import BaggingClassifier\n",
    "from sklearn.svm import SVC\n",
    "from sklearn.neural_network import MLPClassifier"
   ]
  },
  {
   "cell_type": "code",
   "execution_count": null,
   "metadata": {},
   "outputs": [],
   "source": [
    "# train function 되나 테스트 해보기 가독성\n",
    "# try-catch 써서 pipeline model()부분에 random_state 시도 -> 모델 일관성\n",
    "def make_model(model_name, model, param_grid, cv):\n",
    "    pipe_svc = Pipeline([('scl', StandardScaler()), (model_name,model())]\n",
    "    gs = GridSearchCV(estimator=pipe_svc, param_grid=param_grid, scoring='accuracy', cv=cv, n_jobs=-1)\n",
    "    gs.fit(x_train,y_train)\n",
    "    best_params = gs.best_params_\n",
    "    print(best_params)\n",
    "\n",
    "# test function\n",
    "def make_test(model):\n",
    "        best_model=model.best_estimator_\n",
    "        y_pred = best_model.predict(             )\n",
    "        print(classification_report(y_test,y_pred,target_names=[               ]))"
   ]
  },
  {
   "cell_type": "markdown",
   "metadata": {},
   "source": [
    "# KNN"
   ]
  },
  {
   "cell_type": "code",
   "execution_count": null,
   "metadata": {},
   "outputs": [],
   "source": [
    "# KNN train\n",
    "'''\n",
    "hyper parameter 선정필요, grid search, kv=5 or 10\n",
    "'''\n",
    "# pipeline\n",
    "pipe_svc = Pipeline([('scl', StandardScaler()), ('knn',KNeighborsClassifier())])\n",
    "\n",
    "# hyper parameter set\n",
    "'''\n",
    "implement this area!\n",
    "\n",
    "param_grid = [ \n",
    "\n",
    "]\n",
    "'''\n",
    "gs = GridSearchCV(estimator=pipe_svc, param_grid=param_grid, scoring='accuracy', cv=10, n_jobs=-1)\n",
    "\n",
    "gs.fit( )\n",
    "\n",
    "best_params = gs.best_params_\n",
    "# 최고의  하이퍼 파라미터 조합 출력\n",
    "print(best_params)"
   ]
  },
  {
   "cell_type": "code",
   "execution_count": null,
   "metadata": {},
   "outputs": [],
   "source": [
    "# KNN test\n",
    "\n",
    "# confusion matrix\n",
    "\n",
    "best_lr=gs.best_estimator_\n",
    "y_pred = best_lr.predict( )\n",
    "\n",
    "print(classification_report(y_test,y_pred,target_names=[ ]))"
   ]
  },
  {
   "cell_type": "markdown",
   "metadata": {},
   "source": [
    "# Decision Tree"
   ]
  },
  {
   "cell_type": "code",
   "execution_count": null,
   "metadata": {},
   "outputs": [],
   "source": [
    "# Decision Tree train\n",
    "\n",
    "'''\n",
    "hyper parameter 선정필요, grid search, kv=5 or 10\n",
    "'''\n",
    "# pipeline\n",
    "pipe_svc = Pipeline([('scl', StandardScaler()), ('dt',tree.DecisionTreeClassifier())])\n",
    "\n",
    "# hyper parameter set\n",
    "'''\n",
    "implement this area!\n",
    "\n",
    "param_grid = [ \n",
    "\n",
    "]\n",
    "'''\n",
    "gs = GridSearchCV(estimator=pipe_svc, param_grid=param_grid, scoring='accuracy', cv=10, n_jobs=-1)\n",
    "gs.fit(x_train,y_train)\n",
    "best_params = gs.best_params_\n",
    "# 최고의  하이퍼 파라미터 조합 출력\n",
    "print(best_params)"
   ]
  },
  {
   "cell_type": "code",
   "execution_count": null,
   "metadata": {},
   "outputs": [],
   "source": [
    "# Decision Tree test\n",
    "\n",
    "# confusion matrix\n",
    "\n",
    "best_lr=gs.best_estimator_\n",
    "y_pred = best_lr.predict( )\n",
    "\n",
    "print(classification_report(y_test,y_pred,target_names=[ ]))"
   ]
  },
  {
   "cell_type": "markdown",
   "metadata": {},
   "source": [
    "# Random Forest"
   ]
  },
  {
   "cell_type": "code",
   "execution_count": null,
   "metadata": {},
   "outputs": [],
   "source": [
    "# Random Forest train\n",
    "\n",
    "'''\n",
    "hyper parameter 선정필요, grid search, kv=5 or 10\n",
    "'''\n",
    "# pipeline\n",
    "pipe_svc = Pipeline([('scl', StandardScaler()), ('rf',RandomForestClassifier(random_state = 1))])\n",
    "'''\n",
    "# hyper parameter set\n",
    "\n",
    "implement this area!\n",
    "\n",
    "param_grid = [ \n",
    "\n",
    "]\n",
    "'''\n",
    "gs = GridSearchCV(estimator=pipe_svc,param_grid=param_grid,scoring='accuracy', cv=10, n_jobs = -1)\n",
    "gs.fit( )\n",
    "best_params = gs.best_params_\n",
    "# 최고의  하이퍼 파라미터 조합 출력\n",
    "print(best_params)"
   ]
  },
  {
   "cell_type": "code",
   "execution_count": null,
   "metadata": {},
   "outputs": [],
   "source": [
    "#Random Forest test\n",
    "\n",
    "# confusion matrix\n",
    "\n",
    "best_lr=gs.best_estimator_\n",
    "y_pred = best_lr.predict( )\n",
    "\n",
    "print(classification_report(y_test,y_pred,target_names=[ ]))"
   ]
  },
  {
   "cell_type": "markdown",
   "metadata": {},
   "source": [
    "# Bagging"
   ]
  },
  {
   "cell_type": "code",
   "execution_count": null,
   "metadata": {},
   "outputs": [],
   "source": [
    "# Bagging train\n",
    "'''\n",
    "hyper parameter 선정필요, grid search, kv=5 or 10\n",
    "'''\n",
    "# pipeline\n",
    "pipe_svc = Pipeline([('scl', StandardScaler()), ('bg',BaggingClassifier(tree.DecisionTreeClassifier(random_state = 0),random_state=1))])\n",
    "'''\n",
    "# hyper parameter set\n",
    "\n",
    "implement this area!\n",
    "\n",
    "param_grid = [ \n",
    "\n",
    "]\n",
    "'''\n",
    "gs = GridSearchCV(estimator=pipe_svc,param_grid=param_grid,scoring='accuracy', cv=10, n_jobs = -1)\n",
    "gs.fit( )\n",
    "best_params = gs.best_params_\n",
    "# 최고의  하이퍼 파라미터 조합 출력\n",
    "print(best_params)"
   ]
  },
  {
   "cell_type": "code",
   "execution_count": null,
   "metadata": {},
   "outputs": [],
   "source": [
    "#Bagging test\n",
    "\n",
    "# confusion matrix\n",
    "\n",
    "best_lr=gs.best_estimator_\n",
    "y_pred = best_lr.predict( )\n",
    "\n",
    "print(classification_report(y_test,y_pred,target_names=[ ]))"
   ]
  },
  {
   "cell_type": "markdown",
   "metadata": {},
   "source": [
    "# SVM"
   ]
  },
  {
   "cell_type": "code",
   "execution_count": null,
   "metadata": {},
   "outputs": [],
   "source": [
    "# SVM train\n",
    "\n",
    "'''\n",
    "hyper parameter 선정필요, grid search, kv=5 or 10\n",
    "'''\n",
    "# pipeline\n",
    "pipe_svc = Pipeline([('scl', StandardScaler()), ('clf', SVC(random_state=1))])\n",
    "\n",
    "# hyper parameter set\n",
    "'''\n",
    "\n",
    "implement this area!\n",
    "\n",
    "param_grid = [ \n",
    "\n",
    "]\n",
    "'''\n",
    "gs = GridSearchCV(estimator=pipe_svc,param_grid=param_grid,scoring='accuracy', cv=10, n_jobs = -1)\n",
    "gs.fit( )\n",
    "best_params = gs.best_params_\n",
    "# 최고의  하이퍼 파라미터 조합 출력\n",
    "print(best_params)"
   ]
  },
  {
   "cell_type": "code",
   "execution_count": null,
   "metadata": {},
   "outputs": [],
   "source": [
    "# SVM test\n",
    "\n",
    "# confusion matrix\n",
    "\n",
    "best_lr=gs.best_estimator_\n",
    "y_pred = best_lr.predict( )\n",
    "\n",
    "print(classification_report(y_test,y_pred,target_names=[ ]))"
   ]
  },
  {
   "cell_type": "markdown",
   "metadata": {},
   "source": [
    "# Neural Network Classifier"
   ]
  },
  {
   "cell_type": "code",
   "execution_count": null,
   "metadata": {},
   "outputs": [],
   "source": [
    "# Neural Network  train\n",
    "\n",
    "# pipeline\n",
    "pipe_svc = Pipeline([('scl', StandardScaler()), ('clf', MLPClassifier(random_state=1))])\n",
    "\n",
    "# hyper parameter set\n",
    "'''\n",
    "\n",
    "implement this area!\n",
    "\n",
    "param_grid = [ \n",
    "\n",
    "]\n",
    "'''\n",
    "gs = GridSearchCV(estimator=pipe_svc,param_grid=param_grid,scoring='accuracy', cv=10, n_jobs = -1)\n",
    "gs.fit( )\n",
    "best_params = gs.best_params_"
   ]
  },
  {
   "cell_type": "code",
   "execution_count": null,
   "metadata": {},
   "outputs": [],
   "source": [
    "# Neural Network test\n",
    "\n",
    "# confusion matrix\n",
    "\n",
    "best_lr=gs.best_estimator_\n",
    "y_pred = best_lr.predict( )\n",
    "\n",
    "print(classification_report(y_test,y_pred,target_names=[ ]))"
   ]
  }
 ],
 "metadata": {
  "kernelspec": {
   "display_name": "Python 3",
   "language": "python",
   "name": "python3"
  },
  "language_info": {
   "codemirror_mode": {
    "name": "ipython",
    "version": 3
   },
   "file_extension": ".py",
   "mimetype": "text/x-python",
   "name": "python",
   "nbconvert_exporter": "python",
   "pygments_lexer": "ipython3",
   "version": "3.8.2"
  }
 },
 "nbformat": 4,
 "nbformat_minor": 4
}
