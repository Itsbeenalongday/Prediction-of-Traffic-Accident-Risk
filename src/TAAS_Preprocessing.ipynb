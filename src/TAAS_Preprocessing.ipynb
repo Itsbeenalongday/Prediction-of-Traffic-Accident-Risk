{
 "cells": [
  {
   "cell_type": "markdown",
   "metadata": {},
   "source": [
    "# Prediction of Traffic Accident Risk\n",
    "Team 7: 어서오십쇼HUMAN  \n",
    "Editor: 허윤행, 김용현\n",
    "## 1. Preprocess"
   ]
  },
  {
   "cell_type": "code",
   "execution_count": null,
   "metadata": {},
   "outputs": [],
   "source": [
    "# 사전 준비\n",
    "import os\n",
    "import numpy as np\n",
    "import pandas as pd\n",
    "import matplotlib.pyplot as plt\n",
    "import seaborn as sns\n",
    "import sklearn\n",
    "import warnings\n",
    "\n",
    "plt.style.use('seaborn')\n",
    "sns.set(font_scale=2.5)\n",
    "\n",
    "warnings.filterwarnings('ignore')\n",
    "\n",
    "%matplotlib inline"
   ]
  },
  {
   "cell_type": "code",
   "execution_count": null,
   "metadata": {},
   "outputs": [],
   "source": [
    "import matplotlib\n",
    "from matplotlib import font_manager, rc\n",
    "import platform\n",
    "\n",
    "if platform.system() == 'Windows':\n",
    "# 윈도우인 경우\n",
    "    font_name = font_manager.FontProperties(fname=\"c:/Windows/Fonts/malgun.ttf\").get_name()\n",
    "    rc('font', family=font_name)\n",
    "else:    \n",
    "# Mac 인 경우\n",
    "    rc('font', family='AppleGothic')\n",
    "    \n",
    "matplotlib.rcParams['axes.unicode_minus'] = False   \n"
   ]
  },
  {
   "cell_type": "code",
   "execution_count": null,
   "metadata": {},
   "outputs": [],
   "source": [
    "sample = pd.read_csv('../input/TAAS_data.csv')\n",
    "\n",
    "print(\"sample.shape:\", sample.shape)\n",
    "\n",
    "# 초기 샘플 데이터\n",
    "sample"
   ]
  },
  {
   "cell_type": "markdown",
   "metadata": {},
   "source": [
    "# 2. 결측값 제거 "
   ]
  },
  {
   "cell_type": "code",
   "execution_count": null,
   "metadata": {},
   "outputs": [],
   "source": [
    "# 제거해주세용 - 바로 진행합니다~\n",
    "sample.replace('불명',np.nan,inplace = True)\n",
    "sample"
   ]
  },
  {
   "cell_type": "code",
   "execution_count": null,
   "metadata": {},
   "outputs": [],
   "source": [
    "sample.isnull().sum()"
   ]
  },
  {
   "cell_type": "code",
   "execution_count": null,
   "metadata": {},
   "outputs": [],
   "source": [
    "sample = sample.dropna()\n",
    "sample"
   ]
  },
  {
   "cell_type": "code",
   "execution_count": null,
   "metadata": {},
   "outputs": [],
   "source": [
    "#기타/불명 -> 불명으로 변경 후 삭제 데이터 7만 얼마에서 69000대로 줄어든 거 확인!!!!"
   ]
  },
  {
   "cell_type": "markdown",
   "metadata": {},
   "source": [
    "# 3. label 변경"
   ]
  },
  {
   "cell_type": "code",
   "execution_count": null,
   "metadata": {},
   "outputs": [],
   "source": [
    "## 범주형 데이터 -> 수치형 데이터\n",
    "# 사고내용\n",
    "Target = {1: \"사망\", 2 : \"중상\", 3 : \"경상\"}\n",
    "\n",
    "for label in Target:\n",
    "    sample['사고내용'] = np.where(sample['사고내용'] == Target[label], label, sample['사고내용'])\n",
    "\n",
    "\n",
    "# 사고 시 특이사항\n",
    "Detail = {0: \"특이사항 없음\", 1: \"신호등 꺼짐상태\", 2: \"신호등 이상\", 3: \"보행자 신호\", 4: \"인도 위 사고\", 5: \"노면상태 결함\", 6: \"미끄러움\", 7: \"질퍽한 도로\"}\n",
    "\n",
    "for label in Detail:\n",
    "    sample['사고 시 특이사항'] = np.where(sample['사고 시 특이사항'] == Detail[label], label, sample['사고 시 특이사항'])\n",
    "\n",
    "# 기상 상태\n",
    "Weather = {1 : \"맑음\", 2 : \"비\", 3: \"눈\", 4: \"바람\", 5: \"폭풍우\", 6: \"눈보라\", 7: \"안개\", 8: \"기타\", 9: \"불명\"}\n",
    "\n",
    "for label in Weather:\n",
    "    sample['기상상태'] = np.where(sample['기상상태'] == Weather[label], label, sample['기상상태'])\n",
    "\n",
    "# 가해자성별\n",
    "Sex = {1: \"남성\", 2: \"여성\"}\n",
    "\n",
    "for label in Sex:\n",
    "    sample['가해자성별'] = np.where(sample['가해자성별'] == Sex[label], label, sample['가해자성별'])\n",
    "\n",
    "# 가해차종\n",
    "CarType = {1: '자전거',2: '50cc', 3: '125cc', 4:'500cc', 5: '500cc 이상',8: '택시',9: '자가용',10: '승합차',11: '버스', 16: '기타', 17: '농기계', 18: '트럭', 19: '3.5t급 미만', 20: '7.5t급 미만', 21: '7.5t급 이상', 22: '스쿠터',23: '전기차'}\n",
    "\n",
    "for label in CarType:\n",
    "    sample['가해차종'] = np.where(sample['가해차종'] == CarType[label], label, sample['가해차종'])\n",
    "    \n",
    "# 노면상태\n",
    "RoadState = {1: '건조',2: '젖음',3: '눈',4: '얼음',5: '3cm이상 물에 잠김',6: '미끄러움',7: '질퍽한 도로'}\n",
    "\n",
    "for label in RoadState:\n",
    "    sample['노면상태'] = np.where(sample['노면상태'] == RoadState[label], label, sample['노면상태'])\n",
    "\n",
    "# 빛 세기\n",
    "Light = {1:'밝음',4: '조명 있음', 5: '어두움',6: '조명 없음',7: '기타/불명'}\n",
    "\n",
    "for label in Light:\n",
    "    sample['빛 세기'] = np.where(sample['빛 세기'] == Light[label], label, sample['빛 세기'])\n",
    "\n",
    "# 사고 시 통제 방법\n",
    "\n",
    "Control = {0: '20m내에 교차로 없음', 1: '교통 정리 경찰',2: '신호등',3: '정지 신호',4: '일방 통행'}\n",
    "for label in Control:\n",
    "    sample['사고 시 통제 방법'] = np.where(sample['사고 시 통제 방법'] == Control[label], label, sample['사고 시 통제 방법'])\n",
    "JunLocation = { 0 : '20m내에 교차로 없음',1 : '교차로 접근로',2 : '비어있는 교차로',3 : '회전교차로 출구',4 : '회전 교차로 입구',5 : '주 도로 출구',6 : '주 도로 입구',7 : '경사로 진입로',8 : '위험로'}\n",
    "for label in JunLocation:\n",
    "    sample['사고 위치'] = np.where(sample['사고 위치'] == JunLocation[label],label,sample['사고 위치'])\n",
    "sample    "
   ]
  },
  {
   "cell_type": "code",
   "execution_count": null,
   "metadata": {},
   "outputs": [],
   "source": [
    "## 범주형 데이터 -> 원핫 인코딩\n",
    "# To Do List:\n",
    "# 요일, 보행자이동, 사고 위치\n",
    "sample"
   ]
  },
  {
   "cell_type": "code",
   "execution_count": null,
   "metadata": {},
   "outputs": [],
   "source": [
    "sample = pd.get_dummies(sample,columns=['요일'],prefix=['요일'])\n",
    "sample = pd.get_dummies(sample,columns=['보행자이동'],prefix=['보행자이동'])\n",
    "sample"
   ]
  },
  {
   "cell_type": "code",
   "execution_count": null,
   "metadata": {},
   "outputs": [],
   "source": [
    "sample.dtypes"
   ]
  },
  {
   "cell_type": "code",
   "execution_count": null,
   "metadata": {},
   "outputs": [],
   "source": [
    "#object 형태에서 int형으로 통일하기 위한 작업\n",
    "#우선 float형태가 있기 때문에 float로 갔다가 int로 변경\n",
    "sample = sample.astype('float')\n",
    "sample = sample.astype('int')\n",
    "sample.dtypes"
   ]
  },
  {
   "cell_type": "code",
   "execution_count": null,
   "metadata": {},
   "outputs": [],
   "source": [
    "sample"
   ]
  },
  {
   "cell_type": "markdown",
   "metadata": {},
   "source": [
    "# 3. logarithm 함수 써서 정규화(나이)"
   ]
  },
  {
   "cell_type": "code",
   "execution_count": null,
   "metadata": {},
   "outputs": [],
   "source": [
    "# 코드 복붙 예정"
   ]
  },
  {
   "cell_type": "markdown",
   "metadata": {},
   "source": [
    "# 4. 상관관계 분석 "
   ]
  },
  {
   "cell_type": "code",
   "execution_count": null,
   "metadata": {},
   "outputs": [],
   "source": [
    "# ~"
   ]
  },
  {
   "cell_type": "markdown",
   "metadata": {},
   "source": [
    "# 5. 시각화"
   ]
  },
  {
   "cell_type": "code",
   "execution_count": null,
   "metadata": {},
   "outputs": [],
   "source": [
    "# ~"
   ]
  },
  {
   "cell_type": "markdown",
   "metadata": {},
   "source": [
    "# 6. 데이터 저장"
   ]
  },
  {
   "cell_type": "code",
   "execution_count": null,
   "metadata": {},
   "outputs": [],
   "source": [
    "# sample.to_csv('../input/final.csv', encoding='utf-8-sig',index_label=False)"
   ]
  }
 ],
 "metadata": {
  "kernelspec": {
   "display_name": "Python 3",
   "language": "python",
   "name": "python3"
  },
  "language_info": {
   "codemirror_mode": {
    "name": "ipython",
    "version": 3
   },
   "file_extension": ".py",
   "mimetype": "text/x-python",
   "name": "python",
   "nbconvert_exporter": "python",
   "pygments_lexer": "ipython3",
   "version": "3.7.6"
  }
 },
 "nbformat": 4,
 "nbformat_minor": 4
}
